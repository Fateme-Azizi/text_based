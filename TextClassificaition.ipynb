{
 "cells": [
  {
   "cell_type": "markdown",
   "metadata": {},
   "source": [
    "#### Import library : "
   ]
  },
  {
   "cell_type": "code",
   "execution_count": 2,
   "metadata": {},
   "outputs": [],
   "source": [
    "%reload_ext autoreload\n",
    "%autoreload 2\n",
    "%matplotlib inline\n",
    "\n",
    "import numpy as np\n",
    "import matplotlib.pyplot as plt\n",
    "import spacy\n",
    "import glob\n",
    "from tqdm.notebook import tqdm\n",
    "import re\n",
    "import sys\n",
    "import random\n",
    "import os \n",
    "import pickle \n",
    "from IPython.display import clear_output\n",
    "import pandas as pd\n",
    "from collections import Counter, OrderedDict\n",
    "from collections import defaultdict\n",
    "\n",
    "import torch\n",
    "import torch.nn as nn\n",
    "import torch.optim as optim\n",
    "import torch.nn.functional as F\n",
    "from torch.utils.data import DataLoader, Dataset\n",
    "from torch.autograd import Variable\n",
    "\n",
    "NLP = spacy.load('en_core_web_sm')\n",
    "np.set_printoptions(precision=2)\n",
    "use_gpu = torch.cuda.is_available()\n",
    "np.random.seed(1234)\n",
    "device = torch.device('cuda' if torch.cuda.is_available() else 'cpu')"
   ]
  },
  {
   "cell_type": "markdown",
   "metadata": {},
   "source": [
    "#### GPU setting : "
   ]
  },
  {
   "cell_type": "code",
   "execution_count": 3,
   "metadata": {},
   "outputs": [
    {
     "data": {
      "text/plain": [
       "True"
      ]
     },
     "execution_count": 3,
     "metadata": {},
     "output_type": "execute_result"
    }
   ],
   "source": [
    "use_gpu"
   ]
  },
  {
   "cell_type": "code",
   "execution_count": 4,
   "metadata": {},
   "outputs": [
    {
     "data": {
      "text/plain": [
       "device(type='cuda')"
      ]
     },
     "execution_count": 4,
     "metadata": {},
     "output_type": "execute_result"
    }
   ],
   "source": [
    "device"
   ]
  },
  {
   "cell_type": "markdown",
   "metadata": {},
   "source": [
    "#### Data dir : "
   ]
  },
  {
   "cell_type": "code",
   "execution_count": 5,
   "metadata": {},
   "outputs": [],
   "source": [
    "data_dir = './'"
   ]
  },
  {
   "cell_type": "markdown",
   "metadata": {},
   "source": [
    "#### Load & PreProcess on data : (txt , book , label)"
   ]
  },
  {
   "cell_type": "code",
   "execution_count": 6,
   "metadata": {
    "scrolled": true
   },
   "outputs": [],
   "source": [
    "df = pd.read_csv(data_dir + 'dataset.csv')\n",
    "\n",
    "sent = df['text'].tolist()\n",
    "label = df['label'].tolist()"
   ]
  },
  {
   "cell_type": "markdown",
   "metadata": {},
   "source": [
    "#### Classes : "
   ]
  },
  {
   "cell_type": "code",
   "execution_count": 7,
   "metadata": {},
   "outputs": [
    {
     "data": {
      "text/plain": [
       "5"
      ]
     },
     "execution_count": 7,
     "metadata": {},
     "output_type": "execute_result"
    }
   ],
   "source": [
    "len(np.unique(label))"
   ]
  },
  {
   "cell_type": "code",
   "execution_count": 8,
   "metadata": {},
   "outputs": [
    {
     "data": {
      "text/plain": [
       "{'Modernism': 0,\n",
       " 'Naturalism': 1,\n",
       " 'Realism': 2,\n",
       " 'Romanticism': 3,\n",
       " 'Symbolism': 4}"
      ]
     },
     "execution_count": 8,
     "metadata": {},
     "output_type": "execute_result"
    }
   ],
   "source": [
    "label_name = np.unique(label)\n",
    "\n",
    "label_dict = {}\n",
    "for c in range(0 , len(label_name)) : \n",
    "    label_dict[label_name[c]] = c\n",
    "label_dict"
   ]
  },
  {
   "cell_type": "markdown",
   "metadata": {},
   "source": [
    "#### Define a tokenizer :"
   ]
  },
  {
   "cell_type": "code",
   "execution_count": 9,
   "metadata": {},
   "outputs": [],
   "source": [
    "def tokenizer(text):\n",
    "    text = str(text).lower()\n",
    "    text = re.sub(r\"[\\*\\\"“”\\n\\\\…\\+\\-\\/\\=\\(\\)‘•:\\[\\]\\|’;]\", \" \", str(text))\n",
    "    text = re.sub(r\"[ ]+\", \" \", text)\n",
    "    text = re.sub(r\"\\!+\", \"!\", text)\n",
    "    text = re.sub(r\"\\,+\", \",\", text)\n",
    "    text = re.sub(r\"\\?+\", \"?\", text)\n",
    "    return [x.text for x in NLP.tokenizer(text) if x.text != \" \"]"
   ]
  },
  {
   "cell_type": "code",
   "execution_count": 10,
   "metadata": {},
   "outputs": [
    {
     "data": {
      "text/plain": [
       "'CHAPTER IIn the late summer of that year we lived in a house in a vil age that looked across the river and the plain to the mountains. In the bed of the  river there were pebbles and boulders, dry and white in the sun, and the water was clear and swiftly moving and blue in the channels. Troops went by the house and down the road and the dust they raised powdered the leaves of the trees. The trunks of the trees too were dusty and the leaves fel early that year and we saw the troops marching along the  road and the dust rising and leaves, stirred by the breeze, fal ing and the soldiers marching and afterward the road bare and white except for the leaves.'"
      ]
     },
     "execution_count": 10,
     "metadata": {},
     "output_type": "execute_result"
    }
   ],
   "source": [
    "sent[0]"
   ]
  },
  {
   "cell_type": "code",
   "execution_count": 11,
   "metadata": {},
   "outputs": [
    {
     "data": {
      "text/plain": [
       "'chapter iin the late summer of that year we lived in a house in a vil age that looked across the river and the plain to the mountains . in the bed of the river there were pebbles and boulders , dry and white in the sun , and the water was clear and swiftly moving and blue in the channels . troops went by the house and down the road and the dust they raised powdered the leaves of the trees . the trunks of the trees too were dusty and the leaves fel early that year and we saw the troops marching along the road and the dust rising and leaves , stirred by the breeze , fal ing and the soldiers marching and afterward the road bare and white except for the leaves .'"
      ]
     },
     "execution_count": 11,
     "metadata": {},
     "output_type": "execute_result"
    }
   ],
   "source": [
    "' '.join(tokenizer(sent[0]))"
   ]
  },
  {
   "cell_type": "code",
   "execution_count": 12,
   "metadata": {},
   "outputs": [
    {
     "name": "stdout",
     "output_type": "stream",
     "text": [
      "tokenizing data . \n",
      "Wall time: 15.3 s\n"
     ]
    }
   ],
   "source": [
    "%%time\n",
    "sent = list(map(lambda x : ' '.join(tokenizer(x)) , sent))\n",
    "print('tokenizing data . ')"
   ]
  },
  {
   "cell_type": "markdown",
   "metadata": {},
   "source": [
    "#### Statistics : "
   ]
  },
  {
   "cell_type": "code",
   "execution_count": 13,
   "metadata": {},
   "outputs": [],
   "source": [
    "def cal_stats(corpus):\n",
    "    \n",
    "    lengths = []\n",
    "    for sentence in tqdm(range(0 , len(corpus))) : \n",
    "        lengths.append(len(corpus[sentence].split(' ')))\n",
    "    \n",
    "    # compute stats\n",
    "    total = sum(lengths)\n",
    "    mean = np.mean(lengths)\n",
    "    std = np.std(lengths)\n",
    "    maximum = np.max(lengths)\n",
    "    \n",
    "    # print stats\n",
    "    print('len sentence : ' , len(lengths))\n",
    "    print('Total words in the corpus = {}\\n'.format(total))\n",
    "    print('maximum length : ' , maximum)\n",
    "    print('Mean = {:.2f}'.format(mean))\n",
    "    print('Std  = {:.2f}'.format(std))\n",
    "    print('95% confidence interval = [{:.2f}, {:.2f}]'.format(np.max((mean-2*std , 0)), mean+2*std))\n",
    "    \n",
    "    # plot histogram\n",
    "    plt.hist(lengths, bins=20)\n",
    "    plt.show()"
   ]
  },
  {
   "cell_type": "code",
   "execution_count": 14,
   "metadata": {},
   "outputs": [
    {
     "data": {
      "application/vnd.jupyter.widget-view+json": {
       "model_id": "9f98ba79017e4023821fc473bd6376d2",
       "version_major": 2,
       "version_minor": 0
      },
      "text/plain": [
       "  0%|          | 0/32143 [00:00<?, ?it/s]"
      ]
     },
     "metadata": {},
     "output_type": "display_data"
    },
    {
     "name": "stdout",
     "output_type": "stream",
     "text": [
      "len sentence :  32143\n",
      "Total words in the corpus = 3097207\n",
      "\n",
      "maximum length :  4153\n",
      "Mean = 96.36\n",
      "Std  = 119.21\n",
      "95% confidence interval = [0.00, 334.77]\n"
     ]
    },
    {
     "data": {
      "image/png": "[encoded data removed]",
      "text/plain": [
       "<Figure size 432x288 with 1 Axes>"
      ]
     },
     "metadata": {
      "needs_background": "light"
     },
     "output_type": "display_data"
    }
   ],
   "source": [
    "cal_stats(corpus = sent)"
   ]
  },
  {
   "cell_type": "markdown",
   "metadata": {},
   "source": [
    "#### Split data : "
   ]
  },
  {
   "cell_type": "code",
   "execution_count": 15,
   "metadata": {},
   "outputs": [],
   "source": [
    "def splitData(texts , classes , split_ratio = .20) : \n",
    "    train , valid = [] , []\n",
    "    for t in tqdm(range(0 , len(texts))) : \n",
    "        if random.uniform(0, 1) < split_ratio : \n",
    "            valid.append([texts[t] , classes[t]])\n",
    "        else : \n",
    "            train.append([texts[t] , classes[t]])\n",
    "    return train , valid"
   ]
  },
  {
   "cell_type": "code",
   "execution_count": 16,
   "metadata": {},
   "outputs": [
    {
     "data": {
      "application/vnd.jupyter.widget-view+json": {
       "model_id": "8286c88d1acd4767b99ddf71932babad",
       "version_major": 2,
       "version_minor": 0
      },
      "text/plain": [
       "  0%|          | 0/32143 [00:00<?, ?it/s]"
      ]
     },
     "metadata": {},
     "output_type": "display_data"
    },
    {
     "data": {
      "text/plain": [
       "(25790, 6353)"
      ]
     },
     "execution_count": 16,
     "metadata": {},
     "output_type": "execute_result"
    }
   ],
   "source": [
    "train , valid = splitData(sent , label)\n",
    "len(train) , len(valid)"
   ]
  },
  {
   "cell_type": "markdown",
   "metadata": {},
   "source": [
    "#### Model setting : "
   ]
  },
  {
   "cell_type": "code",
   "execution_count": 17,
   "metadata": {},
   "outputs": [],
   "source": [
    "vocab_path = './vocab.pkl'\n",
    "\n",
    "# parameters\n",
    "max_len = 350\n",
    "min_count = 1\n",
    "batch_size = 32"
   ]
  },
  {
   "cell_type": "markdown",
   "metadata": {},
   "source": [
    "#### Dataset and Dataloader : "
   ]
  },
  {
   "cell_type": "code",
   "execution_count": 18,
   "metadata": {},
   "outputs": [],
   "source": [
    "PAD = '<pad>'  # special symbol we use for padding text\n",
    "UNK = '<unk>'  # special symbol we use for rare or unknown word"
   ]
  },
  {
   "cell_type": "code",
   "execution_count": 19,
   "metadata": {},
   "outputs": [],
   "source": [
    "class Vocabulary(object):\n",
    "    \n",
    "    def __init__(self, tokenizer):\n",
    "        self.tokenizer = tokenizer\n",
    "        self.word2index = {}\n",
    "        self.word2count = {}\n",
    "        self.index2word = {}\n",
    "        self.count = 0\n",
    "    \n",
    "    def add_word(self, word):\n",
    "        if not word in self.word2index:\n",
    "            self.word2index[word] = self.count\n",
    "            self.word2count[word] = 1\n",
    "            self.index2word[self.count] = word\n",
    "            self.count += 1\n",
    "        else:\n",
    "            self.word2count[word] += 1\n",
    "    \n",
    "    def add_sentence(self, sentence):\n",
    "        for word in self.tokenizer(sentence):\n",
    "            self.add_word(word)\n",
    "            \n",
    "    def __len__(self):\n",
    "        return self.count"
   ]
  },
  {
   "cell_type": "code",
   "execution_count": 20,
   "metadata": {},
   "outputs": [],
   "source": [
    "class TextClassificationDataset(Dataset):\n",
    "    \n",
    "    def __init__(self , data , tokenizer, \n",
    "                 vocab_path='./vocab.pkl', \n",
    "                 max_len=350, min_count=3):\n",
    "        \n",
    "        self.data = data\n",
    "        self.vocab_path = vocab_path\n",
    "        self.tokenizer = tokenizer\n",
    "        self.max_len = max_len\n",
    "        self.min_count = min_count\n",
    "        \n",
    "        self.vocab = None\n",
    "        \n",
    "        self.classes = np.unique(list(map(lambda x : x[1] , self.data)))\n",
    "        self.text = list(map(lambda x : x[0] , self.data))\n",
    "        \n",
    "        self.num_classes = len(self.classes)\n",
    "        self.class_to_index = {}\n",
    "        for c in range(0 , len(self.classes)) : \n",
    "            self.class_to_index[self.classes[c]] = c\n",
    "        \n",
    "        # build vocabulary from training and validation texts\n",
    "        self.build_vocab()\n",
    "        \n",
    "    def __getitem__(self, index):\n",
    "        text , class_idx = self.data[index]\n",
    "        class_idx = self.class_to_index[class_idx]\n",
    "        \n",
    "        # tokenize the text file\n",
    "        tokens = self.tokenizer(text.strip())\n",
    "        \n",
    "        # padding and trimming\n",
    "        if len(tokens) < self.max_len:\n",
    "            num_pads = self.max_len - len(tokens)\n",
    "            tokens = [PAD] * num_pads + tokens\n",
    "        elif len(tokens) > self.max_len:\n",
    "            tokens = tokens[:self.max_len]\n",
    "            \n",
    "        # numericalizing\n",
    "        ids = torch.LongTensor(self.max_len)\n",
    "        for i, word in enumerate(tokens):\n",
    "            if word not in self.vocab.word2index:\n",
    "                ids[i] = self.vocab.word2index[UNK]  # unknown words\n",
    "            elif word != PAD and self.vocab.word2count[word] < self.min_count:\n",
    "                ids[i] = self.vocab.word2index[UNK]  # rare words\n",
    "            else:\n",
    "                ids[i] = self.vocab.word2index[word]\n",
    "        \n",
    "        return ids, class_idx\n",
    "    \n",
    "    def __len__(self):\n",
    "        return len(self.text)\n",
    "    \n",
    "    def build_vocab(self):\n",
    "        if not os.path.exists(self.vocab_path):\n",
    "            vocab = Vocabulary(self.tokenizer)\n",
    "            for line in tqdm(self.text , desc='Building Vocab'):\n",
    "                vocab.add_sentence(line)\n",
    "\n",
    "            # sort words by their frequencies\n",
    "            words = [(0, PAD), (0, UNK)]\n",
    "            words += sorted([(c, w) for w, c in vocab.word2count.items()], reverse=True)\n",
    "\n",
    "            self.vocab = Vocabulary(self.tokenizer)\n",
    "            for i, (count, word) in enumerate(words):\n",
    "                self.vocab.word2index[word] = i\n",
    "                self.vocab.word2count[word] = count\n",
    "                self.vocab.index2word[i] = word\n",
    "                self.vocab.count += 1\n",
    "\n",
    "            pickle.dump(self.vocab, open(self.vocab_path, 'wb'))\n",
    "        else:\n",
    "            self.vocab = pickle.load(open(self.vocab_path, 'rb'))"
   ]
  },
  {
   "cell_type": "code",
   "execution_count": 21,
   "metadata": {},
   "outputs": [
    {
     "data": {
      "application/vnd.jupyter.widget-view+json": {
       "model_id": "0160ca221a004cb18805c3f3b219ba0c",
       "version_major": 2,
       "version_minor": 0
      },
      "text/plain": [
       "Building Vocab:   0%|          | 0/25790 [00:00<?, ?it/s]"
      ]
     },
     "metadata": {},
     "output_type": "display_data"
    }
   ],
   "source": [
    "train_ds = TextClassificationDataset(train, tokenizer, vocab_path, max_len, min_count)\n",
    "train_dl = DataLoader(train_ds, batch_size=batch_size, shuffle=True)\n",
    "\n",
    "valid_ds = TextClassificationDataset(valid, tokenizer, vocab_path, max_len, min_count)\n",
    "valid_dl = DataLoader(valid_ds, batch_size=batch_size, shuffle=False)"
   ]
  },
  {
   "cell_type": "code",
   "execution_count": 22,
   "metadata": {},
   "outputs": [
    {
     "data": {
      "text/plain": [
       "(25790, 6353)"
      ]
     },
     "execution_count": 22,
     "metadata": {},
     "output_type": "execute_result"
    }
   ],
   "source": [
    "len(train_ds) , len(valid_ds)"
   ]
  },
  {
   "cell_type": "code",
   "execution_count": 23,
   "metadata": {},
   "outputs": [
    {
     "data": {
      "text/plain": [
       "[tensor([[    0,     0,     0,  ...,    11,  1056,     3],\n",
       "         [    0,     0,     0,  ...,  3465,    29,     3],\n",
       "         [    0,     0,     0,  ...,    17,   228,     3],\n",
       "         ...,\n",
       "         [    0,     0,     0,  ...,    19,  6333,     3],\n",
       "         [    0,     0,     0,  ..., 18767, 38726,     3],\n",
       "         [    0,     0,     0,  ..., 49484,   617,    46]]),\n",
       " tensor([1, 2, 0, 1, 0, 1, 2, 4, 1, 0, 4, 0, 1, 2, 3, 3, 3, 0, 1, 1, 3, 1, 1, 0,\n",
       "         4, 1, 3, 2, 1, 0, 2, 3])]"
      ]
     },
     "execution_count": 23,
     "metadata": {},
     "output_type": "execute_result"
    }
   ],
   "source": [
    "next(iter(train_dl))"
   ]
  },
  {
   "cell_type": "code",
   "execution_count": 24,
   "metadata": {},
   "outputs": [
    {
     "name": "stdout",
     "output_type": "stream",
     "text": [
      "0\n",
      "[    0     0     0     0     0     0     0     0     0     0     0     0\n",
      "     0     0     0     0     0     0     0     0     0     0     0     0\n",
      "     0     0     0     0     0     0     0     0     0     0     0     0\n",
      "     0     0     0     0     0     0     0     0     0     0     0     0\n",
      "     0     0     0     0     0     0     0     0     0     0     0     0\n",
      "     0     0     0     0     0     0     0     0     0     0     0     0\n",
      "     0     0     0     0     0     0     0     0     0     0     0     0\n",
      "     0     0     0     0     0     0     0     0     0     0     0     0\n",
      "     0     0     0     0     0     0     0     0     0     0     0     0\n",
      "     0     0     0     0     0     0     0     0     0     0     0     0\n",
      "     0     0     0     0     0     0     0     0     0     0     0     0\n",
      "     0     0     0     0     0     0     0     0     0     0     0     0\n",
      "     0     0     0     0     0     0     0     0     0     0     0     0\n",
      "     0     0     0     0     0     0     0     0     0     0     0     0\n",
      "     0     0     0     0     0     0     0     0     0     0     0     0\n",
      "     0     0     0     0     0     0     0     0     0     0     0     0\n",
      "     0     0     0     0     0     0     0     0     0     0     0     0\n",
      "     0     0     0     0     0     0     0     0     0   521 82190     4\n",
      "   510   788     7    14   474    57   642    10     8   152    10     8\n",
      "  3991   800    14   120   412     4   845     5     4  1014     6     4\n",
      "  1434     3    10     4   291     7     4   845    44    43  7272     5\n",
      " 21147     2  1197     5   296    10     4   552     2     5     4   351\n",
      "    12   634     5  3688   980     5   480    10     4 15728     3  3136\n",
      "    95    38     4   152     5    83     4   442     5     4  1520    37\n",
      "   815  5740     4  1095     7     4   658     3     4  5048     7     4\n",
      "   658    98    43  3600     5     4  1095  7715   732    14   474     5\n",
      "    57   148     4  3136  4622   276     4   442     5     4  1520   922\n",
      "     5  1095     2  1843    38     4  3473     2  4223  3590     5     4\n",
      "  3088  4622     5  2204     4   442  1285     5   296   541    21     4\n",
      "  1095     3]\n"
     ]
    }
   ],
   "source": [
    "ids, label = train_ds[0]\n",
    "\n",
    "print(label)\n",
    "print(ids.numpy())"
   ]
  },
  {
   "cell_type": "code",
   "execution_count": 25,
   "metadata": {},
   "outputs": [
    {
     "name": "stdout",
     "output_type": "stream",
     "text": [
      "<pad> <pad> <pad> <pad> <pad> <pad> <pad> <pad> <pad> <pad> <pad> <pad> <pad> <pad> <pad> <pad> <pad> <pad> <pad> <pad> <pad> <pad> <pad> <pad> <pad> <pad> <pad> <pad> <pad> <pad> <pad> <pad> <pad> <pad> <pad> <pad> <pad> <pad> <pad> <pad> <pad> <pad> <pad> <pad> <pad> <pad> <pad> <pad> <pad> <pad> <pad> <pad> <pad> <pad> <pad> <pad> <pad> <pad> <pad> <pad> <pad> <pad> <pad> <pad> <pad> <pad> <pad> <pad> <pad> <pad> <pad> <pad> <pad> <pad> <pad> <pad> <pad> <pad> <pad> <pad> <pad> <pad> <pad> <pad> <pad> <pad> <pad> <pad> <pad> <pad> <pad> <pad> <pad> <pad> <pad> <pad> <pad> <pad> <pad> <pad> <pad> <pad> <pad> <pad> <pad> <pad> <pad> <pad> <pad> <pad> <pad> <pad> <pad> <pad> <pad> <pad> <pad> <pad> <pad> <pad> <pad> <pad> <pad> <pad> <pad> <pad> <pad> <pad> <pad> <pad> <pad> <pad> <pad> <pad> <pad> <pad> <pad> <pad> <pad> <pad> <pad> <pad> <pad> <pad> <pad> <pad> <pad> <pad> <pad> <pad> <pad> <pad> <pad> <pad> <pad> <pad> <pad> <pad> <pad> <pad> <pad> <pad> <pad> <pad> <pad> <pad> <pad> <pad> <pad> <pad> <pad> <pad> <pad> <pad> <pad> <pad> <pad> <pad> <pad> <pad> <pad> <pad> <pad> <pad> <pad> <pad> <pad> <pad> <pad> <pad> <pad> <pad> <pad> <pad> <pad> <pad> <pad> <pad> <pad> <pad> <pad> <pad> <pad> <pad> <pad> <pad> <pad> <pad> <pad> <pad> <pad> <pad> <pad> chapter iin the late summer of that year we lived in a house in a vil age that looked across the river and the plain to the mountains . in the bed of the river there were pebbles and boulders , dry and white in the sun , and the water was clear and swiftly moving and blue in the channels . troops went by the house and down the road and the dust they raised powdered the leaves of the trees . the trunks of the trees too were dusty and the leaves fel early that year and we saw the troops marching along the road and the dust rising and leaves , stirred by the breeze , fal ing and the soldiers marching and afterward the road bare and white except for the leaves .\n"
     ]
    }
   ],
   "source": [
    "# convert back the sequence of integers into original text\n",
    "print(' '.join([train_ds.vocab.index2word[i.item()] for i in ids]))"
   ]
  },
  {
   "cell_type": "code",
   "execution_count": 26,
   "metadata": {
    "scrolled": true
   },
   "outputs": [
    {
     "name": "stdout",
     "output_type": "stream",
     "text": [
      "chapter iin the late summer of that year we lived in a house in a vil age that looked across the river and the plain to the mountains . in the bed of the river there were pebbles and boulders , dry and white in the sun , and the water was clear and swiftly moving and blue in the channels . troops went by the house and down the road and the dust they raised powdered the leaves of the trees . the trunks of the trees too were dusty and the leaves fel early that year and we saw the troops marching along the road and the dust rising and leaves , stirred by the breeze , fal ing and the soldiers marching and afterward the road bare and white except for the leaves .\n"
     ]
    }
   ],
   "source": [
    "# print the original text\n",
    "print(train[0][0])"
   ]
  },
  {
   "cell_type": "code",
   "execution_count": 27,
   "metadata": {},
   "outputs": [
    {
     "data": {
      "text/plain": [
       "{'Modernism': 0,\n",
       " 'Naturalism': 1,\n",
       " 'Realism': 2,\n",
       " 'Romanticism': 3,\n",
       " 'Symbolism': 4}"
      ]
     },
     "execution_count": 27,
     "metadata": {},
     "output_type": "execute_result"
    }
   ],
   "source": [
    "train_ds.class_to_index"
   ]
  },
  {
   "cell_type": "markdown",
   "metadata": {},
   "source": [
    "#### Vocabulary : "
   ]
  },
  {
   "cell_type": "code",
   "execution_count": 28,
   "metadata": {},
   "outputs": [
    {
     "name": "stdout",
     "output_type": "stream",
     "text": [
      "Vocab size = 113271\n",
      "\n",
      "Most common words:\n",
      ",: 162494\n",
      ".: 119929\n",
      "the: 96779\n",
      "and: 64198\n",
      "to: 54351\n",
      "of: 51963\n",
      "a: 46037\n",
      "i: 45442\n",
      "in: 33746\n",
      "he: 33465\n"
     ]
    }
   ],
   "source": [
    "vocab = train_ds.vocab\n",
    "freqs = [(count, word) for (word, count) in vocab.word2count.items() if count >= min_count]\n",
    "vocab_size = len(freqs) + 2  # for PAD and UNK tokens\n",
    "print(f'Vocab size = {vocab_size}')\n",
    "\n",
    "print('\\nMost common words:')\n",
    "for c, w in sorted(freqs, reverse=True)[:10]:\n",
    "    print(f'{w}: {c}')"
   ]
  },
  {
   "cell_type": "code",
   "execution_count": 29,
   "metadata": {},
   "outputs": [
    {
     "name": "stdout",
     "output_type": "stream",
     "text": [
      "113271\n"
     ]
    }
   ],
   "source": [
    "vocab_size = 2 + len([w for (w, c) in train_ds.vocab.word2count.items() if c >= 1])\n",
    "print(vocab_size)"
   ]
  },
  {
   "cell_type": "markdown",
   "metadata": {},
   "source": [
    "#### Load pre-trained word wectors (fasttext = https://fasttext.cc/docs/en/crawl-vectors.html) : "
   ]
  },
  {
   "cell_type": "code",
   "execution_count": 30,
   "metadata": {},
   "outputs": [],
   "source": [
    "class WordVector(object):\n",
    "    def __init__(self, lang, filename):\n",
    "        \" Create an instance of word vecor class.\"\n",
    "        self.lang = lang\n",
    "        self.word_vectors = pickle.load(open(filename, 'rb'))\n",
    "        self.vector_size = len(self.word_vectors['</s>'])\n",
    "        self.mean_vector = None\n",
    "        self.stddev = None\n",
    "        \n",
    "    def __len__(self):\n",
    "        return len(self.word_vectors)\n",
    "    \n",
    "    def __getitem__(self, word):\n",
    "        return self.get_word_vector(word)\n",
    "        \n",
    "    def get_words(self):\n",
    "        return [w for w in self.word_vectors]\n",
    "    \n",
    "    def mean(self):\n",
    "        if self.mean_vector is None:\n",
    "            vectors = np.stack([v for _, v in self.word_vectors.items()], axis=0)\n",
    "            self.mean_vector = np.mean(vectors, axis=0)\n",
    "        return self.mean_vector\n",
    "    \n",
    "    def std(self):\n",
    "        if self.stddev is None:\n",
    "            vectors = np.stack([v for _, v in self.word_vectors.items()], axis=0)\n",
    "            self.stddev = np.std(vectors)\n",
    "        return self.stddev\n",
    "    \n",
    "    def get_word_vector(self, word):\n",
    "        return self.word_vectors.get(word, self.mean() + np.random.normal(scale=self.std(), size=(self.vector_size,)))\n",
    "        \n",
    "    def get_word_vectors(self, words):\n",
    "        return [self.get_word_vector(w) for w in words]\n",
    "        \n",
    "    def most_similar(self, word, n=10):\n",
    "        v = self.get_word_vector(word)\n",
    "        V = np.stack([v for _, v in self.word_vectors.items()], axis=0)\n",
    "        dist = V - v\n",
    "        idxes = np.argsort(np.sum(dist * dist, axis=1))[:n]\n",
    "        \n",
    "        result = []\n",
    "        for i, w in enumerate(self.word_vectors.keys()):\n",
    "            if i in idxes:\n",
    "                result += [w]\n",
    "        return result"
   ]
  },
  {
   "cell_type": "markdown",
   "metadata": {},
   "source": [
    "#### vector file to pkl : "
   ]
  },
  {
   "cell_type": "code",
   "execution_count": 31,
   "metadata": {},
   "outputs": [
    {
     "data": {
      "application/vnd.jupyter.widget-view+json": {
       "model_id": "117f18f7881c43a6b65b5f4ec492fbee",
       "version_major": 2,
       "version_minor": 0
      },
      "text/plain": [
       "reading: 0it [00:00, ?it/s]"
      ]
     },
     "metadata": {},
     "output_type": "display_data"
    }
   ],
   "source": [
    "lang = 'en'\n",
    "fname = f'./wiki.{lang}.vec'\n",
    "pkl_fname = f'./wiki.{lang}.pkl'\n",
    "\n",
    "word_vecs = defaultdict()\n",
    "with open(fname, encoding='utf8') as f:\n",
    "    for i, line in enumerate(tqdm(f, desc='reading')):\n",
    "        if i == 0: continue\n",
    "        tokens = line.strip().split(' ')\n",
    "        if len(tokens) != 301: continue\n",
    "        word = tokens[0]\n",
    "        wv = np.array([float(x) for x in tokens[1:]])\n",
    "        word_vecs[word] = wv\n",
    "        \n",
    "pickle.dump(word_vecs, open(pkl_fname, 'wb'))"
   ]
  },
  {
   "cell_type": "markdown",
   "metadata": {},
   "source": [
    "#### Load pkl file : "
   ]
  },
  {
   "cell_type": "code",
   "execution_count": 32,
   "metadata": {},
   "outputs": [
    {
     "name": "stdout",
     "output_type": "stream",
     "text": [
      "111018\n"
     ]
    }
   ],
   "source": [
    "wvecs_filename = f'./wiki.{lang}.pkl'\n",
    "wvecs = WordVector(lang, wvecs_filename)\n",
    "\n",
    "print(len(wvecs))"
   ]
  },
  {
   "cell_type": "markdown",
   "metadata": {},
   "source": [
    "#### Embeding vocab : "
   ]
  },
  {
   "cell_type": "code",
   "execution_count": 33,
   "metadata": {},
   "outputs": [],
   "source": [
    "def get_embeddings(vocab, wv):\n",
    "    num_vocabs, embed_sz = len(vocab), wv.vector_size\n",
    "    emb = torch.zeros(num_vocabs, embed_sz)\n",
    "    for idx in tqdm(range(num_vocabs)):\n",
    "        emb[idx] = torch.from_numpy(wv[vocab.index2word[idx]])\n",
    "    return emb"
   ]
  },
  {
   "cell_type": "code",
   "execution_count": 34,
   "metadata": {},
   "outputs": [
    {
     "data": {
      "application/vnd.jupyter.widget-view+json": {
       "model_id": "709ad6e57b2b4dc2a0fd5dfbe59a26d8",
       "version_major": 2,
       "version_minor": 0
      },
      "text/plain": [
       "  0%|          | 0/113271 [00:00<?, ?it/s]"
      ]
     },
     "metadata": {},
     "output_type": "display_data"
    }
   ],
   "source": [
    "embeddings = get_embeddings(vocab, wvecs)"
   ]
  },
  {
   "cell_type": "code",
   "execution_count": 35,
   "metadata": {},
   "outputs": [
    {
     "data": {
      "text/plain": [
       "torch.Size([113271, 300])"
      ]
     },
     "execution_count": 35,
     "metadata": {},
     "output_type": "execute_result"
    }
   ],
   "source": [
    "embeddings.size()"
   ]
  },
  {
   "cell_type": "markdown",
   "metadata": {},
   "source": [
    "#### LSTM with Attention mechanism :"
   ]
  },
  {
   "cell_type": "code",
   "execution_count": 69,
   "metadata": {},
   "outputs": [],
   "source": [
    "class SelfAttention(nn.Module):\n",
    "    def __init__(self, hidden_dim):\n",
    "        super().__init__()\n",
    "        self.projection = nn.Sequential(\n",
    "            nn.Linear(hidden_dim, 64),\n",
    "            nn.ReLU(True),\n",
    "            nn.Linear(64, 1)\n",
    "        )\n",
    "    \n",
    "    def forward(self, encoder_outputs):\n",
    "        # encoder_outputs = [batch size, sent len, hid dim]\n",
    "        energy = self.projection(encoder_outputs)\n",
    "        # energy = [batch size, sent len, 1]\n",
    "        weights = F.softmax(energy.squeeze(-1), dim=1)\n",
    "        # weights = [batch size, sent len]\n",
    "        outputs = (encoder_outputs * weights.unsqueeze(-1)).sum(dim=1)\n",
    "        # outputs = [batch size, hid dim]\n",
    "        return outputs, weights\n",
    "\n",
    "    \n",
    "class AttentionLSTM(nn.Module):\n",
    "    def __init__(self, vocab_size, embedding_dim, hidden_dim, output_dim, n_layers, bidirectional, dropout , emb = None):\n",
    "        super().__init__()\n",
    "        self.hidden_dim = hidden_dim\n",
    "        self.embedding_dim = embed_size\n",
    "        self.num_layers = n_layers\n",
    "        \n",
    "        # emb ####################################\n",
    "        if emb is not None:\n",
    "            assert emb.size(0) == vocab_size, 'Invalid embeddings!'\n",
    "            self.embedding_dim = emb.size(1)        \n",
    "        \n",
    "        self.embedding = nn.Embedding(vocab_size, embedding_dim)\n",
    "        \n",
    "        if emb is not None:\n",
    "            self.embedding.weight.data = emb\n",
    "        # emb ####################################\n",
    "\n",
    "        self.lstm = nn.LSTM(embedding_dim, hidden_dim, num_layers=n_layers,\n",
    "                            bidirectional=bidirectional, \n",
    "                            dropout= 0 if n_layers < 2 else dropout)\n",
    "        self.attention = SelfAttention(hidden_dim)\n",
    "        self.fc = nn.Linear(hidden_dim, output_dim)\n",
    "        self.dropout = nn.Dropout(dropout)\n",
    "        \n",
    "    def forward(self, x):\n",
    "        # x = [sent len, batch size]\n",
    "        embedded = self.embedding(x)\n",
    "        # embedded = [sent len, batch size, emb dim]\n",
    "        output, (hidden, cell) = self.lstm(embedded)\n",
    "        # use 'batch_first' if you want batch size to be the 1st para\n",
    "        # output = [sent len, batch size, hid dim*num directions]\n",
    "        output = output[:, :, :self.hidden_dim] + output[:, :, self.hidden_dim:]\n",
    "        # output = [sent len, batch size, hid dim]\n",
    "        ouput = output.permute(1, 0, 2)\n",
    "        # ouput = [batch size, sent len, hid dim]\n",
    "        new_embed, weights = self.attention(ouput)\n",
    "        # new_embed = [batch size, hid dim]\n",
    "        # weights = [batch size, sent len]\n",
    "        new_embed = self.dropout(new_embed)\n",
    "        return self.fc(new_embed)"
   ]
  },
  {
   "cell_type": "markdown",
   "metadata": {},
   "source": [
    "#### Train functions : "
   ]
  },
  {
   "cell_type": "code",
   "execution_count": 80,
   "metadata": {},
   "outputs": [],
   "source": [
    "def detach(x):\n",
    "    \"\"\" Detach hidden states from their history.\"\"\"\n",
    "    return Variable(x.data) if type(x) == Variable else tuple(detach(v) for v in x)\n",
    "\n",
    "def train_step(model, train_dl, criterion, optimizer, device):\n",
    "    model.train()\n",
    "    \n",
    "    total_acc = 0.0\n",
    "    total_loss = 0.0\n",
    "    total = 0.0\n",
    "    \n",
    "    for i, (train_inputs, train_labels) in tqdm(enumerate(train_dl), \n",
    "                                                         desc='Training', \n",
    "                                                         total=len(train_dl)):\n",
    "        \n",
    "        train_inputs, train_labels = train_inputs.to(device), train_labels.to(device)\n",
    "        if len(train_labels) < train_dl.batch_size: continue\n",
    "        \n",
    "        # Starting each batch, we detach the hidden state from how it was previously produced.\n",
    "        # If we didn't, the model would try backpropagating all the way to start of the dataset.\n",
    "        model.zero_grad()\n",
    "        output = model(train_inputs.t())\n",
    "        \n",
    "        loss = criterion(output, train_labels)\n",
    "        loss.backward()\n",
    "        torch.nn.utils.clip_grad_norm_(model.parameters(), 0.3)        \n",
    "        optimizer.step()\n",
    "\n",
    "        # calculate training acc and loss\n",
    "        _, predicted = torch.max(output, 1)\n",
    "        total_acc += (predicted == train_labels).sum()\n",
    "        total_loss += loss.item()\n",
    "        total += len(train_labels)\n",
    "        \n",
    "    return total_loss / total, total_acc / total\n",
    "\n",
    "\n",
    "def validate_step(model, valid_dl, criterion, device):\n",
    "    model.eval()\n",
    "        \n",
    "    total_acc = 0.0\n",
    "    total_loss = 0.0\n",
    "    total = 0.0\n",
    "    \n",
    "    with torch.no_grad():\n",
    "        for i, (test_inputs, test_labels) in tqdm(enumerate(valid_dl), \n",
    "                                                           desc='Validation', \n",
    "                                                           total=len(valid_dl)):\n",
    "\n",
    "            test_inputs, test_labels = test_inputs.to(device), test_labels.to(device)\n",
    "\n",
    "            if len(test_labels) < valid_dl.batch_size: continue\n",
    "\n",
    "            output = model(test_inputs.t())\n",
    "            loss = criterion(output, test_labels)\n",
    "\n",
    "            # calculate testing acc and loss\n",
    "            _, predicted = torch.max(output, 1)\n",
    "            total_acc += (predicted == test_labels).sum()\n",
    "            total_loss += loss.item()\n",
    "            total += len(test_labels)\n",
    "        \n",
    "    return total_loss / total, total_acc / total\n",
    "\n",
    "\n",
    "def train(model, train_dl, valid_dl, criterion, optimizer, device, scheduler, num_epochs):\n",
    "    max_len, min_count = train_dl.dataset.max_len, train_dl.dataset.min_count\n",
    "    \n",
    "    train_hist, valid_hist = [], []\n",
    "    best_acc, best_wts = 0.0, None\n",
    "    \n",
    "    report = \"\"\n",
    "\n",
    "    for epoch in range(num_epochs):\n",
    "        if epoch > 0: \n",
    "            clear_output(wait=True)\n",
    "            print(report)\n",
    "\n",
    "        ## perform one epoch of training and validation\n",
    "        trn_loss, trn_acc = train_step(model, train_dl, criterion, optimizer, device)\n",
    "        val_loss, val_acc = validate_step(model, valid_dl, criterion, device)\n",
    "        scheduler.step()\n",
    "\n",
    "        train_hist += [(trn_loss, trn_acc.item())]\n",
    "        valid_hist += [(val_loss, val_acc.item())]\n",
    "\n",
    "        # save weights\n",
    "        if val_acc > best_acc:\n",
    "            best_acc = val_acc\n",
    "            best_wts = model.state_dict().copy()\n",
    "            torch.save(best_wts, './TextClassificaition.pth')\n",
    "\n",
    "        report += f'[Epoch: {epoch + 1:2d}/{num_epochs:2d}] | Training Loss: {trn_loss:.4f} | Testing Loss: {val_loss:.4f} | Training Acc: {trn_acc*100:.2f} | Testing Acc: {val_acc*100:.2f}\\n'\n",
    "\n",
    "    model.load_state_dict(best_wts)\n",
    "    return train_hist, valid_hist\n",
    "\n",
    "def prediction(model, inp , criterion , device , tokenizer , max_len , vocab):\n",
    "    model.eval()\n",
    "    \n",
    "     # tokenize the text file\n",
    "    print(inp)\n",
    "    tokens = tokenizer(inp.strip())\n",
    "\n",
    "    # padding and trimming\n",
    "    if len(tokens) < max_len:\n",
    "        num_pads = max_len - len(tokens)\n",
    "        tokens = [PAD] * num_pads + tokens\n",
    "    elif len(tokens) > max_len:\n",
    "        tokens = tokens[:max_len]\n",
    "    print(tokens)\n",
    "    \n",
    "    # numericalizing\n",
    "    ids = torch.LongTensor(max_len)\n",
    "    for i, word in enumerate(tokens):\n",
    "        if word not in vocab.word2index:\n",
    "            ids[i] = vocab.word2index[UNK]  # unknown words\n",
    "        elif word != PAD and vocab.word2count[word] < min_count:\n",
    "            ids[i] = vocab.word2index[UNK]  # rare words\n",
    "        else:\n",
    "            ids[i] = vocab.word2index[word]\n",
    "    ids = ids.unsqueeze(0).to(device)\n",
    "    print(ids)\n",
    "    \n",
    "    with torch.no_grad():\n",
    "        output = model(ids.t())\n",
    "        _, predicted = torch.max(output, 1)\n",
    "        \n",
    "    return predicted"
   ]
  },
  {
   "cell_type": "markdown",
   "metadata": {},
   "source": [
    "#### Model setting : "
   ]
  },
  {
   "cell_type": "code",
   "execution_count": 71,
   "metadata": {},
   "outputs": [],
   "source": [
    "# LSTM parameters\n",
    "embed_size = 100\n",
    "hidden_size = 256\n",
    "num_layers = 1\n",
    "\n",
    "# training parameters\n",
    "lr = 0.001\n",
    "num_epochs = 10"
   ]
  },
  {
   "cell_type": "code",
   "execution_count": 74,
   "metadata": {},
   "outputs": [
    {
     "data": {
      "text/plain": [
       "AttentionLSTM(\n",
       "  (embedding): Embedding(113271, 300)\n",
       "  (lstm): LSTM(300, 256, bidirectional=True)\n",
       "  (attention): SelfAttention(\n",
       "    (projection): Sequential(\n",
       "      (0): Linear(in_features=256, out_features=64, bias=True)\n",
       "      (1): ReLU(inplace=True)\n",
       "      (2): Linear(in_features=64, out_features=1, bias=True)\n",
       "    )\n",
       "  )\n",
       "  (fc): Linear(in_features=256, out_features=5, bias=True)\n",
       "  (dropout): Dropout(p=0.5, inplace=False)\n",
       ")"
      ]
     },
     "execution_count": 74,
     "metadata": {},
     "output_type": "execute_result"
    }
   ],
   "source": [
    "model = AttentionLSTM(vocab_size, embed_size, hidden_size, \n",
    "                      output_dim=train_ds.num_classes, \n",
    "                      n_layers=num_layers, bidirectional=True, dropout=0.5 , emb = embeddings)\n",
    "\n",
    "\n",
    "model = model.to(device)\n",
    "model"
   ]
  },
  {
   "cell_type": "markdown",
   "metadata": {},
   "source": [
    "#### Loss function and optimizer : "
   ]
  },
  {
   "cell_type": "code",
   "execution_count": 75,
   "metadata": {},
   "outputs": [],
   "source": [
    "criterion = nn.CrossEntropyLoss().to(device)\n",
    "criterion = criterion.to(device)\n",
    "    \n",
    "optimizer = optim.Adam(model.parameters(), lr=lr, betas=(0.7, 0.99))\n",
    "scheduler = optim.lr_scheduler.StepLR(optimizer, step_size=1, gamma=0.9)"
   ]
  },
  {
   "cell_type": "markdown",
   "metadata": {},
   "source": [
    "#### Training : "
   ]
  },
  {
   "cell_type": "code",
   "execution_count": 76,
   "metadata": {
    "scrolled": true
   },
   "outputs": [
    {
     "name": "stdout",
     "output_type": "stream",
     "text": [
      "[Epoch:  1/10] | Training Loss: 0.0243 | Testing Loss: 0.0112 | Training Acc: 70.06 | Testing Acc: 86.84\n",
      "[Epoch:  2/10] | Training Loss: 0.0072 | Testing Loss: 0.0100 | Training Acc: 92.17 | Testing Acc: 88.76\n",
      "[Epoch:  3/10] | Training Loss: 0.0030 | Testing Loss: 0.0110 | Training Acc: 96.77 | Testing Acc: 89.88\n",
      "[Epoch:  4/10] | Training Loss: 0.0013 | Testing Loss: 0.0129 | Training Acc: 98.70 | Testing Acc: 90.09\n",
      "[Epoch:  5/10] | Training Loss: 0.0005 | Testing Loss: 0.0160 | Training Acc: 99.51 | Testing Acc: 89.79\n",
      "[Epoch:  6/10] | Training Loss: 0.0002 | Testing Loss: 0.0228 | Training Acc: 99.79 | Testing Acc: 88.54\n",
      "[Epoch:  7/10] | Training Loss: 0.0001 | Testing Loss: 0.0232 | Training Acc: 99.92 | Testing Acc: 89.43\n",
      "[Epoch:  8/10] | Training Loss: 0.0001 | Testing Loss: 0.0268 | Training Acc: 99.97 | Testing Acc: 88.75\n",
      "[Epoch:  9/10] | Training Loss: 0.0001 | Testing Loss: 0.0278 | Training Acc: 99.97 | Testing Acc: 88.70\n",
      "\n"
     ]
    },
    {
     "data": {
      "application/vnd.jupyter.widget-view+json": {
       "model_id": "627559966cc04af4a79e26cfd2c4380f",
       "version_major": 2,
       "version_minor": 0
      },
      "text/plain": [
       "Training:   0%|          | 0/806 [00:00<?, ?it/s]"
      ]
     },
     "metadata": {},
     "output_type": "display_data"
    },
    {
     "data": {
      "application/vnd.jupyter.widget-view+json": {
       "model_id": "51de5f0b5bc643d5956b3111b2d5c8f8",
       "version_major": 2,
       "version_minor": 0
      },
      "text/plain": [
       "Validation:   0%|          | 0/199 [00:00<?, ?it/s]"
      ]
     },
     "metadata": {},
     "output_type": "display_data"
    }
   ],
   "source": [
    "train_hist, valid_hist = train(model, train_dl, valid_dl, criterion, optimizer, device, scheduler, num_epochs)"
   ]
  },
  {
   "cell_type": "code",
   "execution_count": 77,
   "metadata": {},
   "outputs": [],
   "source": [
    "train_loss = list(map(lambda x : x[0] , train_hist))\n",
    "train_acc = list(map(lambda x : x[1] , train_hist))\n",
    "valid_loss = list(map(lambda x : x[0] , valid_hist))\n",
    "valid_acc = list(map(lambda x : x[1] , valid_hist))"
   ]
  },
  {
   "cell_type": "markdown",
   "metadata": {},
   "source": [
    "#### Plot accuracy : "
   ]
  },
  {
   "cell_type": "code",
   "execution_count": 78,
   "metadata": {},
   "outputs": [
    {
     "data": {
      "text/plain": [
       "<All keys matched successfully>"
      ]
     },
     "execution_count": 78,
     "metadata": {},
     "output_type": "execute_result"
    }
   ],
   "source": [
    "model.load_state_dict(torch.load( \"./TextClassificaition.pth\"))"
   ]
  },
  {
   "cell_type": "code",
   "execution_count": 89,
   "metadata": {},
   "outputs": [
    {
     "name": "stdout",
     "output_type": "stream",
     "text": [
      "angry as i was , as we all were , i was tempted to laugh whenever he opened his mouth . the transition from libertine to prig was so complete .\n",
      "['<pad>', '<pad>', '<pad>', '<pad>', '<pad>', '<pad>', '<pad>', '<pad>', '<pad>', '<pad>', '<pad>', '<pad>', '<pad>', '<pad>', '<pad>', '<pad>', '<pad>', '<pad>', '<pad>', '<pad>', '<pad>', '<pad>', '<pad>', '<pad>', '<pad>', '<pad>', '<pad>', '<pad>', '<pad>', '<pad>', '<pad>', '<pad>', '<pad>', '<pad>', '<pad>', '<pad>', '<pad>', '<pad>', '<pad>', '<pad>', '<pad>', '<pad>', '<pad>', '<pad>', '<pad>', '<pad>', '<pad>', '<pad>', '<pad>', '<pad>', '<pad>', '<pad>', '<pad>', '<pad>', '<pad>', '<pad>', '<pad>', '<pad>', '<pad>', '<pad>', '<pad>', '<pad>', '<pad>', '<pad>', '<pad>', '<pad>', '<pad>', '<pad>', '<pad>', '<pad>', '<pad>', '<pad>', '<pad>', '<pad>', '<pad>', '<pad>', '<pad>', '<pad>', '<pad>', '<pad>', '<pad>', '<pad>', '<pad>', '<pad>', '<pad>', '<pad>', '<pad>', '<pad>', '<pad>', '<pad>', '<pad>', '<pad>', '<pad>', '<pad>', '<pad>', '<pad>', '<pad>', '<pad>', '<pad>', '<pad>', '<pad>', '<pad>', '<pad>', '<pad>', '<pad>', '<pad>', '<pad>', '<pad>', '<pad>', '<pad>', '<pad>', '<pad>', '<pad>', '<pad>', '<pad>', '<pad>', '<pad>', '<pad>', '<pad>', '<pad>', '<pad>', '<pad>', '<pad>', '<pad>', '<pad>', '<pad>', '<pad>', '<pad>', '<pad>', '<pad>', '<pad>', '<pad>', '<pad>', '<pad>', '<pad>', '<pad>', '<pad>', '<pad>', '<pad>', '<pad>', '<pad>', '<pad>', '<pad>', '<pad>', '<pad>', '<pad>', '<pad>', '<pad>', '<pad>', '<pad>', '<pad>', '<pad>', '<pad>', '<pad>', '<pad>', '<pad>', '<pad>', '<pad>', '<pad>', '<pad>', '<pad>', '<pad>', '<pad>', '<pad>', '<pad>', '<pad>', '<pad>', '<pad>', '<pad>', '<pad>', '<pad>', '<pad>', '<pad>', '<pad>', '<pad>', '<pad>', '<pad>', '<pad>', '<pad>', '<pad>', '<pad>', '<pad>', '<pad>', '<pad>', '<pad>', '<pad>', '<pad>', '<pad>', '<pad>', '<pad>', '<pad>', '<pad>', '<pad>', '<pad>', '<pad>', '<pad>', '<pad>', '<pad>', '<pad>', '<pad>', '<pad>', '<pad>', '<pad>', '<pad>', '<pad>', '<pad>', '<pad>', '<pad>', '<pad>', '<pad>', '<pad>', '<pad>', '<pad>', '<pad>', '<pad>', '<pad>', '<pad>', '<pad>', '<pad>', '<pad>', '<pad>', '<pad>', '<pad>', '<pad>', '<pad>', '<pad>', '<pad>', '<pad>', '<pad>', '<pad>', '<pad>', '<pad>', '<pad>', '<pad>', '<pad>', '<pad>', '<pad>', '<pad>', '<pad>', '<pad>', '<pad>', '<pad>', '<pad>', '<pad>', '<pad>', '<pad>', '<pad>', '<pad>', '<pad>', '<pad>', '<pad>', '<pad>', '<pad>', '<pad>', '<pad>', '<pad>', '<pad>', '<pad>', '<pad>', '<pad>', '<pad>', '<pad>', '<pad>', '<pad>', '<pad>', '<pad>', '<pad>', '<pad>', '<pad>', '<pad>', '<pad>', '<pad>', '<pad>', '<pad>', '<pad>', '<pad>', '<pad>', '<pad>', '<pad>', '<pad>', '<pad>', '<pad>', '<pad>', '<pad>', '<pad>', '<pad>', '<pad>', '<pad>', '<pad>', '<pad>', '<pad>', '<pad>', '<pad>', '<pad>', '<pad>', '<pad>', '<pad>', '<pad>', '<pad>', '<pad>', '<pad>', '<pad>', '<pad>', '<pad>', '<pad>', '<pad>', '<pad>', '<pad>', '<pad>', '<pad>', '<pad>', '<pad>', '<pad>', '<pad>', '<pad>', '<pad>', '<pad>', '<pad>', '<pad>', 'angry', 'as', 'i', 'was', ',', 'as', 'we', 'all', 'were', ',', 'i', 'was', 'tempted', 'to', 'laugh', 'whenever', 'he', 'opened', 'his', 'mouth', '.', 'the', 'transition', 'from', 'libertine', 'to', 'prig', 'was', 'so', 'complete', '.']\n",
      "tensor([[    0,     0,     0,     0,     0,     0,     0,     0,     0,     0,\n",
      "             0,     0,     0,     0,     0,     0,     0,     0,     0,     0,\n",
      "             0,     0,     0,     0,     0,     0,     0,     0,     0,     0,\n",
      "             0,     0,     0,     0,     0,     0,     0,     0,     0,     0,\n",
      "             0,     0,     0,     0,     0,     0,     0,     0,     0,     0,\n",
      "             0,     0,     0,     0,     0,     0,     0,     0,     0,     0,\n",
      "             0,     0,     0,     0,     0,     0,     0,     0,     0,     0,\n",
      "             0,     0,     0,     0,     0,     0,     0,     0,     0,     0,\n",
      "             0,     0,     0,     0,     0,     0,     0,     0,     0,     0,\n",
      "             0,     0,     0,     0,     0,     0,     0,     0,     0,     0,\n",
      "             0,     0,     0,     0,     0,     0,     0,     0,     0,     0,\n",
      "             0,     0,     0,     0,     0,     0,     0,     0,     0,     0,\n",
      "             0,     0,     0,     0,     0,     0,     0,     0,     0,     0,\n",
      "             0,     0,     0,     0,     0,     0,     0,     0,     0,     0,\n",
      "             0,     0,     0,     0,     0,     0,     0,     0,     0,     0,\n",
      "             0,     0,     0,     0,     0,     0,     0,     0,     0,     0,\n",
      "             0,     0,     0,     0,     0,     0,     0,     0,     0,     0,\n",
      "             0,     0,     0,     0,     0,     0,     0,     0,     0,     0,\n",
      "             0,     0,     0,     0,     0,     0,     0,     0,     0,     0,\n",
      "             0,     0,     0,     0,     0,     0,     0,     0,     0,     0,\n",
      "             0,     0,     0,     0,     0,     0,     0,     0,     0,     0,\n",
      "             0,     0,     0,     0,     0,     0,     0,     0,     0,     0,\n",
      "             0,     0,     0,     0,     0,     0,     0,     0,     0,     0,\n",
      "             0,     0,     0,     0,     0,     0,     0,     0,     0,     0,\n",
      "             0,     0,     0,     0,     0,     0,     0,     0,     0,     0,\n",
      "             0,     0,     0,     0,     0,     0,     0,     0,     0,     0,\n",
      "             0,     0,     0,     0,     0,     0,     0,     0,     0,     0,\n",
      "             0,     0,     0,     0,     0,     0,     0,     0,     0,     0,\n",
      "             0,     0,     0,     0,     0,     0,     0,     0,     0,     0,\n",
      "             0,     0,     0,     0,     0,     0,     0,     0,     0,     0,\n",
      "             0,     0,     0,     0,     0,     0,     0,     0,     0,     0,\n",
      "             0,     0,     0,     0,     0,     0,     0,     0,     0,  1123,\n",
      "            22,     9,    12,     2,    22,    57,    36,    43,     2,     9,\n",
      "            12,  3687,     6,   693,  1660,    11,   428,    17,   570,     3,\n",
      "             4, 11147,    42, 11499,     6, 12268,    12,    47,  1314,     3]],\n",
      "       device='cuda:0')\n"
     ]
    },
    {
     "data": {
      "text/plain": [
       "tensor([4], device='cuda:0')"
      ]
     },
     "execution_count": 89,
     "metadata": {},
     "output_type": "execute_result"
    }
   ],
   "source": [
    "prediction(model, valid[6300][0] , criterion , device , tokenizer , max_len , vocab)"
   ]
  },
  {
   "cell_type": "code",
   "execution_count": 90,
   "metadata": {},
   "outputs": [
    {
     "data": {
      "image/png": "[encoded data removed]",
      "text/plain": [
       "<Figure size 864x288 with 1 Axes>"
      ]
     },
     "metadata": {
      "needs_background": "light"
     },
     "output_type": "display_data"
    }
   ],
   "source": [
    "plt.figure(figsize=(12, 4))\n",
    "plt.plot(train_loss)\n",
    "plt.plot(valid_loss)\n",
    "plt.xlabel('epoch')\n",
    "plt.ylabel('Loss')\n",
    "plt.title('CrossEntropyLoss')\n",
    "plt.legend(['Train' , 'Validaition'])\n",
    "plt.show()"
   ]
  },
  {
   "cell_type": "code",
   "execution_count": 91,
   "metadata": {},
   "outputs": [
    {
     "data": {
      "image/png": "[encoded data removed]",
      "text/plain": [
       "<Figure size 864x288 with 1 Axes>"
      ]
     },
     "metadata": {
      "needs_background": "light"
     },
     "output_type": "display_data"
    }
   ],
   "source": [
    "plt.figure(figsize=(12, 4))\n",
    "plt.plot(train_acc)\n",
    "plt.plot(valid_acc)\n",
    "plt.xlabel('epoch')\n",
    "plt.ylabel('Accuracy')\n",
    "plt.title('Accuracy')\n",
    "plt.legend(['Train' , 'Validaition'])\n",
    "plt.show()"
   ]
  }
 ],
 "metadata": {
  "kernelspec": {
   "display_name": "Python 3 (ipykernel)",
   "language": "python",
   "name": "python3"
  },
  "language_info": {
   "codemirror_mode": {
    "name": "ipython",
    "version": 3
   },
   "file_extension": ".py",
   "mimetype": "text/x-python",
   "name": "python",
   "nbconvert_exporter": "python",
   "pygments_lexer": "ipython3",
   "version": "3.10.8"
  }
 },
 "nbformat": 4,
 "nbformat_minor": 4
}
